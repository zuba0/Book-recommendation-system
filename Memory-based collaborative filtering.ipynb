{
 "cells": [
  {
   "cell_type": "markdown",
   "metadata": {},
   "source": [
    "# Memory-based collaborative filtering"
   ]
  },
  {
   "cell_type": "markdown",
   "metadata": {},
   "source": [
    "<b>Memory-based collaborative filtering</b> is recommendation strategy which uses the information about user rating historical data. Based on that information it calculates similarity between users or items and recommend the most similar. \n",
    "\n",
    "I will focus on two typical approaches:\n",
    "\n",
    "1. <b>User-based</b> - measures the similarity between target users and other users.\n",
    "\n",
    "\n",
    "2. <b>Item-based</b> - measures the similarity between the items that target users rate and other items.\n",
    "\n",
    "\n",
    "In this project the recommendation engine will the Surprise library in Python.\n"
   ]
  },
  {
   "cell_type": "markdown",
   "metadata": {},
   "source": [
    "## Import libraries"
   ]
  },
  {
   "cell_type": "code",
   "execution_count": 164,
   "metadata": {},
   "outputs": [],
   "source": [
    "import pandas as pd\n",
    "import random\n",
    "from surprise import Reader, Dataset\n",
    "from surprise.model_selection import GridSearchCV\n",
    "from surprise.prediction_algorithms import KNNBasic,KNNBaseline,KNNWithZScore,KNNWithMeans\n",
    "from surprise import accuracy\n",
    "from eda import show_df_info, show_duplicates, choose_values, grouping, check_ratings\n",
    "from recommend import get_top_n, get_names\n",
    "import matplotlib.pyplot as plt\n",
    "from model_graf import plot_diff"
   ]
  },
  {
   "cell_type": "markdown",
   "metadata": {},
   "source": [
    "## Data\n",
    "\n",
    "1. <b>Ratings</b> - contain information how users rated specific books.\n",
    "\n",
    "    Columns:\n",
    "    * user_id\n",
    "    * book_id\n",
    "    * rating\n",
    "\n",
    "\n",
    "2. <b>Books</b> - contain some information about books. In this notebook only few columns will be used.\n",
    "\n",
    "    Columns:\n",
    "    * book_id\n",
    "    * title\n",
    "    * authors"
   ]
  },
  {
   "cell_type": "code",
   "execution_count": 2,
   "metadata": {
    "scrolled": true
   },
   "outputs": [],
   "source": [
    "ratings = pd.read_csv(filepath_or_buffer='./goodbooks-10k-1.0/ratings.csv')\n",
    "books = pd.read_csv(filepath_or_buffer='./goodbooks-10k-1.0/books.csv', usecols=['book_id','title','authors'])"
   ]
  },
  {
   "cell_type": "markdown",
   "metadata": {},
   "source": [
    "## Exploatory Data Analysis"
   ]
  },
  {
   "cell_type": "markdown",
   "metadata": {},
   "source": [
    "Let's check how data looks like, if there are any NaN values or duplicated rows."
   ]
  },
  {
   "cell_type": "code",
   "execution_count": 3,
   "metadata": {},
   "outputs": [
    {
     "name": "stdout",
     "output_type": "stream",
     "text": [
      "Header : \n"
     ]
    },
    {
     "data": {
      "text/html": [
       "<div>\n",
       "<style scoped>\n",
       "    .dataframe tbody tr th:only-of-type {\n",
       "        vertical-align: middle;\n",
       "    }\n",
       "\n",
       "    .dataframe tbody tr th {\n",
       "        vertical-align: top;\n",
       "    }\n",
       "\n",
       "    .dataframe thead th {\n",
       "        text-align: right;\n",
       "    }\n",
       "</style>\n",
       "<table border=\"1\" class=\"dataframe\">\n",
       "  <thead>\n",
       "    <tr style=\"text-align: right;\">\n",
       "      <th></th>\n",
       "      <th>user_id</th>\n",
       "      <th>book_id</th>\n",
       "      <th>rating</th>\n",
       "    </tr>\n",
       "  </thead>\n",
       "  <tbody>\n",
       "    <tr>\n",
       "      <th>0</th>\n",
       "      <td>1</td>\n",
       "      <td>258</td>\n",
       "      <td>5</td>\n",
       "    </tr>\n",
       "    <tr>\n",
       "      <th>1</th>\n",
       "      <td>2</td>\n",
       "      <td>4081</td>\n",
       "      <td>4</td>\n",
       "    </tr>\n",
       "    <tr>\n",
       "      <th>2</th>\n",
       "      <td>2</td>\n",
       "      <td>260</td>\n",
       "      <td>5</td>\n",
       "    </tr>\n",
       "    <tr>\n",
       "      <th>3</th>\n",
       "      <td>2</td>\n",
       "      <td>9296</td>\n",
       "      <td>5</td>\n",
       "    </tr>\n",
       "    <tr>\n",
       "      <th>4</th>\n",
       "      <td>2</td>\n",
       "      <td>2318</td>\n",
       "      <td>3</td>\n",
       "    </tr>\n",
       "  </tbody>\n",
       "</table>\n",
       "</div>"
      ],
      "text/plain": [
       "   user_id  book_id  rating\n",
       "0        1      258       5\n",
       "1        2     4081       4\n",
       "2        2      260       5\n",
       "3        2     9296       5\n",
       "4        2     2318       3"
      ]
     },
     "metadata": {},
     "output_type": "display_data"
    },
    {
     "name": "stdout",
     "output_type": "stream",
     "text": [
      "Number of rows : 5976479\n",
      "Number of NaN values in each column : \n"
     ]
    },
    {
     "data": {
      "text/plain": [
       "user_id    0\n",
       "book_id    0\n",
       "rating     0\n",
       "dtype: int64"
      ]
     },
     "metadata": {},
     "output_type": "display_data"
    }
   ],
   "source": [
    "show_df_info(ratings)"
   ]
  },
  {
   "cell_type": "code",
   "execution_count": 4,
   "metadata": {},
   "outputs": [
    {
     "name": "stdout",
     "output_type": "stream",
     "text": [
      "Number of duplicated rows : \n"
     ]
    },
    {
     "data": {
      "text/plain": [
       "0"
      ]
     },
     "metadata": {},
     "output_type": "display_data"
    }
   ],
   "source": [
    "show_duplicates(ratings[['user_id','book_id']])"
   ]
  },
  {
   "cell_type": "code",
   "execution_count": 5,
   "metadata": {
    "scrolled": true
   },
   "outputs": [
    {
     "name": "stdout",
     "output_type": "stream",
     "text": [
      "Header : \n"
     ]
    },
    {
     "data": {
      "text/html": [
       "<div>\n",
       "<style scoped>\n",
       "    .dataframe tbody tr th:only-of-type {\n",
       "        vertical-align: middle;\n",
       "    }\n",
       "\n",
       "    .dataframe tbody tr th {\n",
       "        vertical-align: top;\n",
       "    }\n",
       "\n",
       "    .dataframe thead th {\n",
       "        text-align: right;\n",
       "    }\n",
       "</style>\n",
       "<table border=\"1\" class=\"dataframe\">\n",
       "  <thead>\n",
       "    <tr style=\"text-align: right;\">\n",
       "      <th></th>\n",
       "      <th>book_id</th>\n",
       "      <th>authors</th>\n",
       "      <th>title</th>\n",
       "    </tr>\n",
       "  </thead>\n",
       "  <tbody>\n",
       "    <tr>\n",
       "      <th>0</th>\n",
       "      <td>1</td>\n",
       "      <td>Suzanne Collins</td>\n",
       "      <td>The Hunger Games (The Hunger Games, #1)</td>\n",
       "    </tr>\n",
       "    <tr>\n",
       "      <th>1</th>\n",
       "      <td>2</td>\n",
       "      <td>J.K. Rowling, Mary GrandPré</td>\n",
       "      <td>Harry Potter and the Sorcerer's Stone (Harry P...</td>\n",
       "    </tr>\n",
       "    <tr>\n",
       "      <th>2</th>\n",
       "      <td>3</td>\n",
       "      <td>Stephenie Meyer</td>\n",
       "      <td>Twilight (Twilight, #1)</td>\n",
       "    </tr>\n",
       "    <tr>\n",
       "      <th>3</th>\n",
       "      <td>4</td>\n",
       "      <td>Harper Lee</td>\n",
       "      <td>To Kill a Mockingbird</td>\n",
       "    </tr>\n",
       "    <tr>\n",
       "      <th>4</th>\n",
       "      <td>5</td>\n",
       "      <td>F. Scott Fitzgerald</td>\n",
       "      <td>The Great Gatsby</td>\n",
       "    </tr>\n",
       "  </tbody>\n",
       "</table>\n",
       "</div>"
      ],
      "text/plain": [
       "   book_id                      authors  \\\n",
       "0        1              Suzanne Collins   \n",
       "1        2  J.K. Rowling, Mary GrandPré   \n",
       "2        3              Stephenie Meyer   \n",
       "3        4                   Harper Lee   \n",
       "4        5          F. Scott Fitzgerald   \n",
       "\n",
       "                                               title  \n",
       "0            The Hunger Games (The Hunger Games, #1)  \n",
       "1  Harry Potter and the Sorcerer's Stone (Harry P...  \n",
       "2                            Twilight (Twilight, #1)  \n",
       "3                              To Kill a Mockingbird  \n",
       "4                                   The Great Gatsby  "
      ]
     },
     "metadata": {},
     "output_type": "display_data"
    },
    {
     "name": "stdout",
     "output_type": "stream",
     "text": [
      "Number of rows : 10000\n",
      "Number of NaN values in each column : \n"
     ]
    },
    {
     "data": {
      "text/plain": [
       "book_id    0\n",
       "authors    0\n",
       "title      0\n",
       "dtype: int64"
      ]
     },
     "metadata": {},
     "output_type": "display_data"
    }
   ],
   "source": [
    "show_df_info(books)"
   ]
  },
  {
   "cell_type": "markdown",
   "metadata": {},
   "source": [
    "Information about well-known book 'Harry Potter and the Sorcerer's Stone' is shown above. It is obvious that the author of this books is J.K. Rowling. Mary GrandPré is an illustrator. Only information about the author is needed in order to identify the book. In this case I will leave only one person name in the author column. Even if a book has more than one author it still will be easy to find if we knew one author + title."
   ]
  },
  {
   "cell_type": "code",
   "execution_count": 6,
   "metadata": {},
   "outputs": [],
   "source": [
    "books.authors = books.authors.str.partition(',')[0]"
   ]
  },
  {
   "cell_type": "code",
   "execution_count": 7,
   "metadata": {},
   "outputs": [
    {
     "name": "stdout",
     "output_type": "stream",
     "text": [
      "Number of duplicated rows : \n"
     ]
    },
    {
     "data": {
      "text/plain": [
       "0"
      ]
     },
     "metadata": {},
     "output_type": "display_data"
    }
   ],
   "source": [
    "show_duplicates(books)"
   ]
  },
  {
   "cell_type": "markdown",
   "metadata": {},
   "source": [
    "There is almost a 6 million ratings - it would be hard to process such amount of data. I have to reduce the number of observations. I will randomly choose around 5% of users. The new ratings dataframe will contain only rates given by these users."
   ]
  },
  {
   "cell_type": "code",
   "execution_count": 8,
   "metadata": {},
   "outputs": [],
   "source": [
    "random.seed(5)"
   ]
  },
  {
   "cell_type": "code",
   "execution_count": 9,
   "metadata": {},
   "outputs": [],
   "source": [
    "n = 0.05\n",
    "ratings = choose_values(n, ratings, 'user_id')"
   ]
  },
  {
   "cell_type": "code",
   "execution_count": 10,
   "metadata": {},
   "outputs": [
    {
     "name": "stdout",
     "output_type": "stream",
     "text": [
      "Current number of rows in ratings dataframe is 299308.\n"
     ]
    }
   ],
   "source": [
    "print(f'Current number of rows in ratings dataframe is {len(ratings)}.')"
   ]
  },
  {
   "cell_type": "markdown",
   "metadata": {},
   "source": [
    "Let's see the distribution of number of ratings per book:"
   ]
  },
  {
   "cell_type": "code",
   "execution_count": 11,
   "metadata": {},
   "outputs": [
    {
     "name": "stderr",
     "output_type": "stream",
     "text": [
      "findfont: Font family ['Helvetica'] not found. Falling back to DejaVu Sans.\n",
      "findfont: Font family ['Helvetica'] not found. Falling back to DejaVu Sans.\n"
     ]
    },
    {
     "data": {
      "image/png": "[encoded data removed]",
      "text/plain": [
       "<Figure size 576x432 with 1 Axes>"
      ]
     },
     "metadata": {},
     "output_type": "display_data"
    },
    {
     "name": "stdout",
     "output_type": "stream",
     "text": [
      "Statistics for dataframe grouped by book_id:\n",
      "count    9987.000000\n",
      "mean       29.969761\n",
      "std        63.095292\n",
      "min         1.000000\n",
      "25%         8.000000\n",
      "50%        13.000000\n",
      "75%        26.000000\n",
      "max      1079.000000\n",
      "Name: rating, dtype: float64\n"
     ]
    }
   ],
   "source": [
    "check_ratings(ratings, 'book_id')"
   ]
  },
  {
   "cell_type": "markdown",
   "metadata": {},
   "source": [
    "Let's see the distribution of number of books ratings per user:"
   ]
  },
  {
   "cell_type": "code",
   "execution_count": 12,
   "metadata": {},
   "outputs": [
    {
     "data": {
      "image/png": "[encoded data removed]",
      "text/plain": [
       "<Figure size 576x432 with 1 Axes>"
      ]
     },
     "metadata": {},
     "output_type": "display_data"
    },
    {
     "name": "stdout",
     "output_type": "stream",
     "text": [
      "Statistics for dataframe grouped by user_id:\n",
      "count    2671.000000\n",
      "mean      112.058405\n",
      "std        26.419597\n",
      "min        22.000000\n",
      "25%        96.000000\n",
      "50%       111.000000\n",
      "75%       128.000000\n",
      "max       197.000000\n",
      "Name: rating, dtype: float64\n"
     ]
    }
   ],
   "source": [
    "check_ratings(ratings, 'user_id')"
   ]
  },
  {
   "cell_type": "markdown",
   "metadata": {},
   "source": [
    "Statistics for ratings :"
   ]
  },
  {
   "cell_type": "code",
   "execution_count": 13,
   "metadata": {},
   "outputs": [
    {
     "data": {
      "text/plain": [
       "count    299308.000000\n",
       "mean          3.906752\n",
       "std           0.988437\n",
       "min           1.000000\n",
       "25%           3.000000\n",
       "50%           4.000000\n",
       "75%           5.000000\n",
       "max           5.000000\n",
       "Name: rating, dtype: float64"
      ]
     },
     "execution_count": 13,
     "metadata": {},
     "output_type": "execute_result"
    }
   ],
   "source": [
    "ratings.rating.describe()"
   ]
  },
  {
   "cell_type": "code",
   "execution_count": 14,
   "metadata": {
    "scrolled": false
   },
   "outputs": [
    {
     "data": {
      "image/png": "[encoded data removed]",
      "text/plain": [
       "<Figure size 414.72x316.8 with 1 Axes>"
      ]
     },
     "execution_count": 14,
     "metadata": {},
     "output_type": "execute_result"
    }
   ],
   "source": [
    "dexplot.count(val='rating', data=ratings, normalize= True, title='Ratings distribution', cmap='plasma')"
   ]
  },
  {
   "cell_type": "markdown",
   "metadata": {},
   "source": [
    "## Prediction models"
   ]
  },
  {
   "cell_type": "code",
   "execution_count": 15,
   "metadata": {},
   "outputs": [],
   "source": [
    "reader = Reader(rating_scale=(1, 5))\n",
    "data = Dataset.load_from_df(ratings, reader)\n",
    "raw_ratings = data.raw_ratings\n",
    "train = data"
   ]
  },
  {
   "cell_type": "code",
   "execution_count": 16,
   "metadata": {},
   "outputs": [],
   "source": [
    "random.shuffle(raw_ratings)"
   ]
  },
  {
   "cell_type": "markdown",
   "metadata": {},
   "source": [
    "Divide data into train and test - 20% of data will be in test "
   ]
  },
  {
   "cell_type": "code",
   "execution_count": 17,
   "metadata": {},
   "outputs": [],
   "source": [
    "train_size = int(.8 * len(raw_ratings)) \n",
    "train_raw_ratings = raw_ratings[:train_size]                             \n",
    "test_raw_ratings = raw_ratings[train_size:]                                 \n",
    "train.raw_ratings = train_raw_ratings"
   ]
  },
  {
   "cell_type": "code",
   "execution_count": 18,
   "metadata": {},
   "outputs": [],
   "source": [
    "data.raw_ratings = train_raw_ratings"
   ]
  },
  {
   "cell_type": "markdown",
   "metadata": {},
   "source": [
    "User-based collaborative filtering - for evaulation I will use RMSE."
   ]
  },
  {
   "cell_type": "code",
   "execution_count": 24,
   "metadata": {},
   "outputs": [],
   "source": [
    "#model_dict = {'KNNBasic': KNNBasic,'KNNBaseline': KNNBaseline,\n",
    "#              'KNNWithZScore': KNNWithZScore, 'KNNWithMeans' :KNNWithMeans}\n",
    "#param_grid = {'k': [20, 30, 40], \n",
    "#              'min_k' : [1, 2, 3],\n",
    "#              'sim_options': {'user_based': [True],\n",
    "#                             'name' : ['cosine', pearson']}\n",
    "#             }\n",
    "param_grid = {'k': [20, 30, 40],\n",
    "             'min_k' : [1, 2, 3]}\n",
    "results = []"
   ]
  },
  {
   "cell_type": "code",
   "execution_count": 32,
   "metadata": {
    "scrolled": false
   },
   "outputs": [
    {
     "name": "stdout",
     "output_type": "stream",
     "text": [
      " Best params for model <class 'surprise.prediction_algorithms.knns.KNNBasic'> are {'rmse': {'k': 30, 'min_k': 3}, 'mae': {'k': 20, 'min_k': 3}}\n",
      " Best params for model <class 'surprise.prediction_algorithms.knns.KNNBaseline'> are {'rmse': {'k': 40, 'min_k': 3}, 'mae': {'k': 40, 'min_k': 3}}\n"
     ]
    }
   ],
   "source": [
    "for name, model in model_dict.items():\n",
    "    grid = GridSearchCV(model,param_grid, cv = 5, n_jobs=-1)\n",
    "    grid.fit(data)\n",
    "    print(f' Best params for model {str(model)} are {grid.best_params}')\n",
    "    results.append((name, grid.best_estimator['rmse'], grid.best_estimator['mae']))"
   ]
  },
  {
   "cell_type": "code",
   "execution_count": null,
   "metadata": {},
   "outputs": [],
   "source": [
    "#print(name)\n"
   ]
  },
  {
   "cell_type": "markdown",
   "metadata": {},
   "source": [
    "Comparison of algorithms."
   ]
  },
  {
   "cell_type": "code",
   "execution_count": 33,
   "metadata": {
    "scrolled": true
   },
   "outputs": [
    {
     "name": "stdout",
     "output_type": "stream",
     "text": [
      "KNNBasic\n",
      "Computing the msd similarity matrix...\n",
      "Done computing similarity matrix.\n",
      "Biased accuracy on A,   RMSE: 0.5933\n",
      "Unbiased accuracy on B, RMSE: 0.9138\n",
      "RMSE: 0.9138\n",
      "MAE:  0.7229\n",
      "RMSE: 0.9138192588149974\n",
      "MAE: 0.7228582616208248\n",
      "KNNBaseline\n",
      "Estimating biases using als...\n",
      "Computing the msd similarity matrix...\n",
      "Done computing similarity matrix.\n",
      "Biased accuracy on A,   RMSE: 0.6013\n",
      "Unbiased accuracy on B, RMSE: 0.8576\n",
      "RMSE: 0.8576\n",
      "MAE:  0.6691\n",
      "RMSE: 0.8575599033246115\n",
      "MAE: 0.6691142192772588\n",
      "KNNBasic\n",
      "Computing the msd similarity matrix...\n",
      "Done computing similarity matrix.\n",
      "Biased accuracy on A,   RMSE: 0.5933\n",
      "Unbiased accuracy on B, RMSE: 0.9138\n",
      "RMSE: 0.9138\n",
      "MAE:  0.7229\n",
      "RMSE: 0.9138192588149974\n",
      "MAE: 0.7228582616208248\n",
      "KNNBaseline\n",
      "Estimating biases using als...\n",
      "Computing the msd similarity matrix...\n",
      "Done computing similarity matrix.\n",
      "Biased accuracy on A,   RMSE: 0.6013\n",
      "Unbiased accuracy on B, RMSE: 0.8576\n",
      "RMSE: 0.8576\n",
      "MAE:  0.6691\n",
      "RMSE: 0.8575599033246115\n",
      "MAE: 0.6691142192772588\n"
     ]
    }
   ],
   "source": [
    "rmse = []\n",
    "mae = []\n",
    "for name, model,_ in results:\n",
    "    print(name)                                                     \n",
    "                                                                           \n",
    "    # now test on the trainset                                                 \n",
    "    trainset = data.build_full_trainset()\n",
    "    model.fit(trainset)                                          \n",
    "\n",
    "    # Compute biased accuracy on A\n",
    "    predictions = model.test(trainset.build_testset())\n",
    "    print('Biased accuracy on A,', end='   ')\n",
    "    accuracy.rmse(predictions)\n",
    "\n",
    "    # Compute unbiased accuracy on B\n",
    "    testset = data.construct_testset(test_raw_ratings)  # testset is now the set B\n",
    "    predictions = model.test(testset)\n",
    "    print('Unbiased accuracy on B,', end=' ')\n",
    "    accuracy.rmse(predictions)                                                                                        \n",
    "    rmse_score = accuracy.rmse(predictions)\n",
    "    mae_score = accuracy.mae(predictions)\n",
    "    print(\"RMSE: {}\".format(rmse_score))\n",
    "    print(\"MAE: {}\".format(mae_score))\n",
    "    rmse.append(rmse_score)\n",
    "    mae.append(mae_score)"
   ]
  },
  {
   "cell_type": "code",
   "execution_count": 167,
   "metadata": {
    "scrolled": true
   },
   "outputs": [
    {
     "data": {
      "text/html": [
       "<style  type=\"text/css\" >\n",
       "    #T_7a2757c8_b6fe_11eb_ad22_a5d3606473a7row0_col0 {\n",
       "            background_color:  white;\n",
       "        }    #T_7a2757c8_b6fe_11eb_ad22_a5d3606473a7row0_col1 {\n",
       "            background_color:  white;\n",
       "        }    #T_7a2757c8_b6fe_11eb_ad22_a5d3606473a7row0_col2 {\n",
       "            background_color:  white;\n",
       "        }    #T_7a2757c8_b6fe_11eb_ad22_a5d3606473a7row1_col0 {\n",
       "            background-color:  yellow;\n",
       "        }    #T_7a2757c8_b6fe_11eb_ad22_a5d3606473a7row1_col1 {\n",
       "            background-color:  yellow;\n",
       "        }    #T_7a2757c8_b6fe_11eb_ad22_a5d3606473a7row1_col2 {\n",
       "            background-color:  yellow;\n",
       "        }</style><table id=\"T_7a2757c8_b6fe_11eb_ad22_a5d3606473a7\" ><thead>    <tr>        <th class=\"blank level0\" ></th>        <th class=\"col_heading level0 col0\" >Method</th>        <th class=\"col_heading level0 col1\" >RMSE</th>        <th class=\"col_heading level0 col2\" >MAE</th>    </tr></thead><tbody>\n",
       "                <tr>\n",
       "                        <th id=\"T_7a2757c8_b6fe_11eb_ad22_a5d3606473a7level0_row0\" class=\"row_heading level0 row0\" >0</th>\n",
       "                        <td id=\"T_7a2757c8_b6fe_11eb_ad22_a5d3606473a7row0_col0\" class=\"data row0 col0\" >KNNBasic</td>\n",
       "                        <td id=\"T_7a2757c8_b6fe_11eb_ad22_a5d3606473a7row0_col1\" class=\"data row0 col1\" >0.913819</td>\n",
       "                        <td id=\"T_7a2757c8_b6fe_11eb_ad22_a5d3606473a7row0_col2\" class=\"data row0 col2\" >0.722858</td>\n",
       "            </tr>\n",
       "            <tr>\n",
       "                        <th id=\"T_7a2757c8_b6fe_11eb_ad22_a5d3606473a7level0_row1\" class=\"row_heading level0 row1\" >1</th>\n",
       "                        <td id=\"T_7a2757c8_b6fe_11eb_ad22_a5d3606473a7row1_col0\" class=\"data row1 col0\" >KNNBaseline</td>\n",
       "                        <td id=\"T_7a2757c8_b6fe_11eb_ad22_a5d3606473a7row1_col1\" class=\"data row1 col1\" >0.857560</td>\n",
       "                        <td id=\"T_7a2757c8_b6fe_11eb_ad22_a5d3606473a7row1_col2\" class=\"data row1 col2\" >0.669114</td>\n",
       "            </tr>\n",
       "    </tbody></table>"
      ],
      "text/plain": [
       "<pandas.io.formats.style.Styler at 0x7ffa02a39940>"
      ]
     },
     "execution_count": 167,
     "metadata": {},
     "output_type": "execute_result"
    }
   ],
   "source": [
    "d = {'RMSE': rmse, \n",
    "     'MAE': mae\n",
    "    }\n",
    "df = pd.DataFrame(data=d)\n",
    "#df.insert(loc=0, column='Method', value=['KNNBasic','KNNBaseline',\n",
    "#              'KNNWithZScore','KNNWithMeans'])\n",
    "df.insert(loc=0, column='Method', value=['KNNBasic','KNNBaseline'])\n",
    "color = (df.RMSE == df.RMSE.min()).map({True: 'background-color: yellow', False: 'background_color: white'})\n",
    "df.style.apply(lambda s: color)"
   ]
  },
  {
   "cell_type": "code",
   "execution_count": 169,
   "metadata": {},
   "outputs": [
    {
     "data": {
      "image/png": "[encoded data removed]",
      "text/plain": [
       "<Figure size 1440x360 with 2 Axes>"
      ]
     },
     "metadata": {
      "needs_background": "light"
     },
     "output_type": "display_data"
    }
   ],
   "source": [
    "plt.figure(figsize=(20,5))\n",
    "plt.subplot(1, 2, 1)\n",
    "plot_diff(df, 'Method', 'RMSE')\n",
    "plt.subplot(1, 2, 2)\n",
    "plot_diff(df, 'Method', 'MAE')\n",
    "plt.show()"
   ]
  },
  {
   "cell_type": "markdown",
   "metadata": {},
   "source": [
    "## Recommendations"
   ]
  },
  {
   "cell_type": "markdown",
   "metadata": {},
   "source": [
    "Now we can finally recommend books for the users. \n",
    "Let's use the algorithm which has the lowest RMSE on test set."
   ]
  },
  {
   "cell_type": "code",
   "execution_count": 23,
   "metadata": {},
   "outputs": [
    {
     "data": {
      "text/plain": [
       "<surprise.prediction_algorithms.knns.KNNBaseline at 0x7fd029bf0d90>"
      ]
     },
     "execution_count": 23,
     "metadata": {},
     "output_type": "execute_result"
    }
   ],
   "source": [
    "model_idx = df['rmse'].idxmin()\n",
    "model = results[model_idx][1]\n",
    "model"
   ]
  },
  {
   "cell_type": "markdown",
   "metadata": {},
   "source": [
    "Let's recommend 10 books for user 3173."
   ]
  },
  {
   "cell_type": "code",
   "execution_count": 46,
   "metadata": {
    "scrolled": false
   },
   "outputs": [
    {
     "data": {
      "text/html": [
       "<div>\n",
       "<style scoped>\n",
       "    .dataframe tbody tr th:only-of-type {\n",
       "        vertical-align: middle;\n",
       "    }\n",
       "\n",
       "    .dataframe tbody tr th {\n",
       "        vertical-align: top;\n",
       "    }\n",
       "\n",
       "    .dataframe thead th {\n",
       "        text-align: right;\n",
       "    }\n",
       "</style>\n",
       "<table border=\"1\" class=\"dataframe\">\n",
       "  <thead>\n",
       "    <tr style=\"text-align: right;\">\n",
       "      <th></th>\n",
       "      <th>book_id</th>\n",
       "      <th>prediction</th>\n",
       "      <th>pred_rating</th>\n",
       "      <th>authors</th>\n",
       "      <th>title</th>\n",
       "    </tr>\n",
       "  </thead>\n",
       "  <tbody>\n",
       "    <tr>\n",
       "      <th>0</th>\n",
       "      <td>7368</td>\n",
       "      <td>4.977298</td>\n",
       "      <td>5</td>\n",
       "      <td>C.S. Pacat</td>\n",
       "      <td>Captive Prince: Volume Two (Captive Prince, #2)</td>\n",
       "    </tr>\n",
       "    <tr>\n",
       "      <th>1</th>\n",
       "      <td>8634</td>\n",
       "      <td>4.903610</td>\n",
       "      <td>5</td>\n",
       "      <td>Ibraheem Abbas</td>\n",
       "      <td>حوجن [Ḥawjan]</td>\n",
       "    </tr>\n",
       "    <tr>\n",
       "      <th>2</th>\n",
       "      <td>3241</td>\n",
       "      <td>4.845167</td>\n",
       "      <td>5</td>\n",
       "      <td>Leigh Bardugo</td>\n",
       "      <td>Crooked Kingdom (Six of Crows, #2)</td>\n",
       "    </tr>\n",
       "    <tr>\n",
       "      <th>3</th>\n",
       "      <td>1788</td>\n",
       "      <td>4.813306</td>\n",
       "      <td>5</td>\n",
       "      <td>Bill Watterson</td>\n",
       "      <td>The Calvin and Hobbes Tenth Anniversary Book</td>\n",
       "    </tr>\n",
       "    <tr>\n",
       "      <th>4</th>\n",
       "      <td>2149</td>\n",
       "      <td>4.806308</td>\n",
       "      <td>5</td>\n",
       "      <td>George R.R. Martin</td>\n",
       "      <td>A Song of Ice and Fire (A Song of Ice and Fire...</td>\n",
       "    </tr>\n",
       "    <tr>\n",
       "      <th>5</th>\n",
       "      <td>862</td>\n",
       "      <td>4.803856</td>\n",
       "      <td>5</td>\n",
       "      <td>Brandon Sanderson</td>\n",
       "      <td>Words of Radiance (The Stormlight Archive, #2)</td>\n",
       "    </tr>\n",
       "    <tr>\n",
       "      <th>6</th>\n",
       "      <td>2767</td>\n",
       "      <td>4.800888</td>\n",
       "      <td>5</td>\n",
       "      <td>Brian K. Vaughan</td>\n",
       "      <td>Saga, Vol. 3 (Saga, #3)</td>\n",
       "    </tr>\n",
       "    <tr>\n",
       "      <th>7</th>\n",
       "      <td>5312</td>\n",
       "      <td>4.786217</td>\n",
       "      <td>5</td>\n",
       "      <td>Mike Mignola</td>\n",
       "      <td>Hellboy, Vol. 3: The Chained Coffin and Others...</td>\n",
       "    </tr>\n",
       "    <tr>\n",
       "      <th>8</th>\n",
       "      <td>4868</td>\n",
       "      <td>4.781562</td>\n",
       "      <td>5</td>\n",
       "      <td>James E. Talmage</td>\n",
       "      <td>Jesus the Christ</td>\n",
       "    </tr>\n",
       "    <tr>\n",
       "      <th>9</th>\n",
       "      <td>7910</td>\n",
       "      <td>4.776414</td>\n",
       "      <td>5</td>\n",
       "      <td>V.S. Ramachandran</td>\n",
       "      <td>Phantoms in the Brain: Probing the Mysteries o...</td>\n",
       "    </tr>\n",
       "  </tbody>\n",
       "</table>\n",
       "</div>"
      ],
      "text/plain": [
       "   book_id  prediction  pred_rating             authors  \\\n",
       "0     7368    4.977298            5          C.S. Pacat   \n",
       "1     8634    4.903610            5      Ibraheem Abbas   \n",
       "2     3241    4.845167            5       Leigh Bardugo   \n",
       "3     1788    4.813306            5      Bill Watterson   \n",
       "4     2149    4.806308            5  George R.R. Martin   \n",
       "5      862    4.803856            5   Brandon Sanderson   \n",
       "6     2767    4.800888            5    Brian K. Vaughan   \n",
       "7     5312    4.786217            5        Mike Mignola   \n",
       "8     4868    4.781562            5    James E. Talmage   \n",
       "9     7910    4.776414            5   V.S. Ramachandran   \n",
       "\n",
       "                                               title  \n",
       "0    Captive Prince: Volume Two (Captive Prince, #2)  \n",
       "1                                     حوجن [Ḥawjan]  \n",
       "2                 Crooked Kingdom (Six of Crows, #2)  \n",
       "3       The Calvin and Hobbes Tenth Anniversary Book  \n",
       "4  A Song of Ice and Fire (A Song of Ice and Fire...  \n",
       "5     Words of Radiance (The Stormlight Archive, #2)  \n",
       "6                            Saga, Vol. 3 (Saga, #3)  \n",
       "7  Hellboy, Vol. 3: The Chained Coffin and Others...  \n",
       "8                                   Jesus the Christ  \n",
       "9  Phantoms in the Brain: Probing the Mysteries o...  "
      ]
     },
     "execution_count": 46,
     "metadata": {},
     "output_type": "execute_result"
    }
   ],
   "source": [
    "top_n = get_top_n(3173, ratings, model,n=10)\n",
    "get_names(top_n, books)"
   ]
  },
  {
   "cell_type": "code",
   "execution_count": 45,
   "metadata": {},
   "outputs": [
    {
     "data": {
      "text/plain": [
       "0              1\n",
       "44             8\n",
       "45             8\n",
       "46             8\n",
       "47             8\n",
       "           ...  \n",
       "5976347    41259\n",
       "5976456     3173\n",
       "5976458    53358\n",
       "5976459    53358\n",
       "5976471    50229\n",
       "Name: user_id, Length: 895064, dtype: int64"
      ]
     },
     "execution_count": 45,
     "metadata": {},
     "output_type": "execute_result"
    }
   ],
   "source": [
    "ratings.user_id"
   ]
  },
  {
   "cell_type": "markdown",
   "metadata": {},
   "source": [
    "Let's look at the list of books which user 3173 gave rate 5 and compare it to recommendation list"
   ]
  },
  {
   "cell_type": "code",
   "execution_count": 49,
   "metadata": {},
   "outputs": [
    {
     "data": {
      "text/html": [
       "<div>\n",
       "<style scoped>\n",
       "    .dataframe tbody tr th:only-of-type {\n",
       "        vertical-align: middle;\n",
       "    }\n",
       "\n",
       "    .dataframe tbody tr th {\n",
       "        vertical-align: top;\n",
       "    }\n",
       "\n",
       "    .dataframe thead th {\n",
       "        text-align: right;\n",
       "    }\n",
       "</style>\n",
       "<table border=\"1\" class=\"dataframe\">\n",
       "  <thead>\n",
       "    <tr style=\"text-align: right;\">\n",
       "      <th></th>\n",
       "      <th>user_id</th>\n",
       "      <th>book_id</th>\n",
       "      <th>rating</th>\n",
       "      <th>authors</th>\n",
       "      <th>title</th>\n",
       "    </tr>\n",
       "  </thead>\n",
       "  <tbody>\n",
       "    <tr>\n",
       "      <th>0</th>\n",
       "      <td>3173</td>\n",
       "      <td>250</td>\n",
       "      <td>5</td>\n",
       "      <td>R.J. Palacio</td>\n",
       "      <td>Wonder</td>\n",
       "    </tr>\n",
       "    <tr>\n",
       "      <th>1</th>\n",
       "      <td>3173</td>\n",
       "      <td>70</td>\n",
       "      <td>5</td>\n",
       "      <td>Orson Scott Card</td>\n",
       "      <td>Ender's Game (Ender's Saga, #1)</td>\n",
       "    </tr>\n",
       "    <tr>\n",
       "      <th>2</th>\n",
       "      <td>3173</td>\n",
       "      <td>4112</td>\n",
       "      <td>5</td>\n",
       "      <td>Donald J. Sobol</td>\n",
       "      <td>Encyclopedia Brown, Boy Detective (Encyclopedi...</td>\n",
       "    </tr>\n",
       "    <tr>\n",
       "      <th>3</th>\n",
       "      <td>3173</td>\n",
       "      <td>6</td>\n",
       "      <td>5</td>\n",
       "      <td>John Green</td>\n",
       "      <td>The Fault in Our Stars</td>\n",
       "    </tr>\n",
       "    <tr>\n",
       "      <th>4</th>\n",
       "      <td>3173</td>\n",
       "      <td>3630</td>\n",
       "      <td>5</td>\n",
       "      <td>Ron Rash</td>\n",
       "      <td>Serena</td>\n",
       "    </tr>\n",
       "    <tr>\n",
       "      <th>5</th>\n",
       "      <td>3173</td>\n",
       "      <td>7713</td>\n",
       "      <td>5</td>\n",
       "      <td>Hiroshi Sakurazaka</td>\n",
       "      <td>All You Need Is Kill</td>\n",
       "    </tr>\n",
       "    <tr>\n",
       "      <th>6</th>\n",
       "      <td>3173</td>\n",
       "      <td>164</td>\n",
       "      <td>5</td>\n",
       "      <td>Rainbow Rowell</td>\n",
       "      <td>Eleanor &amp; Park</td>\n",
       "    </tr>\n",
       "    <tr>\n",
       "      <th>7</th>\n",
       "      <td>3173</td>\n",
       "      <td>591</td>\n",
       "      <td>5</td>\n",
       "      <td>Sherman Alexie</td>\n",
       "      <td>The Absolutely True Diary of a Part-Time Indian</td>\n",
       "    </tr>\n",
       "    <tr>\n",
       "      <th>8</th>\n",
       "      <td>3173</td>\n",
       "      <td>610</td>\n",
       "      <td>5</td>\n",
       "      <td>Daniel James Brown</td>\n",
       "      <td>The Boys in the Boat: Nine Americans and Their...</td>\n",
       "    </tr>\n",
       "    <tr>\n",
       "      <th>9</th>\n",
       "      <td>3173</td>\n",
       "      <td>285</td>\n",
       "      <td>5</td>\n",
       "      <td>Graeme Simsion</td>\n",
       "      <td>The Rosie Project (Don Tillman, #1)</td>\n",
       "    </tr>\n",
       "    <tr>\n",
       "      <th>10</th>\n",
       "      <td>3173</td>\n",
       "      <td>141</td>\n",
       "      <td>5</td>\n",
       "      <td>Andy Weir</td>\n",
       "      <td>The Martian</td>\n",
       "    </tr>\n",
       "    <tr>\n",
       "      <th>11</th>\n",
       "      <td>3173</td>\n",
       "      <td>4323</td>\n",
       "      <td>5</td>\n",
       "      <td>Cece Bell</td>\n",
       "      <td>El Deafo</td>\n",
       "    </tr>\n",
       "    <tr>\n",
       "      <th>12</th>\n",
       "      <td>3173</td>\n",
       "      <td>886</td>\n",
       "      <td>5</td>\n",
       "      <td>M.R. Carey</td>\n",
       "      <td>The Girl with All the Gifts</td>\n",
       "    </tr>\n",
       "    <tr>\n",
       "      <th>13</th>\n",
       "      <td>3173</td>\n",
       "      <td>61</td>\n",
       "      <td>5</td>\n",
       "      <td>Paula Hawkins</td>\n",
       "      <td>The Girl on the Train</td>\n",
       "    </tr>\n",
       "    <tr>\n",
       "      <th>14</th>\n",
       "      <td>3173</td>\n",
       "      <td>1728</td>\n",
       "      <td>5</td>\n",
       "      <td>Naomi Novik</td>\n",
       "      <td>Uprooted</td>\n",
       "    </tr>\n",
       "    <tr>\n",
       "      <th>15</th>\n",
       "      <td>3173</td>\n",
       "      <td>3269</td>\n",
       "      <td>5</td>\n",
       "      <td>David Mitchell</td>\n",
       "      <td>Slade House</td>\n",
       "    </tr>\n",
       "    <tr>\n",
       "      <th>16</th>\n",
       "      <td>3173</td>\n",
       "      <td>2471</td>\n",
       "      <td>5</td>\n",
       "      <td>Naomi Novik</td>\n",
       "      <td>His Majesty's Dragon (Temeraire, #1)</td>\n",
       "    </tr>\n",
       "    <tr>\n",
       "      <th>17</th>\n",
       "      <td>3173</td>\n",
       "      <td>6929</td>\n",
       "      <td>5</td>\n",
       "      <td>Marko Kloos</td>\n",
       "      <td>Terms of Enlistment (Frontlines #1)</td>\n",
       "    </tr>\n",
       "    <tr>\n",
       "      <th>18</th>\n",
       "      <td>3173</td>\n",
       "      <td>852</td>\n",
       "      <td>5</td>\n",
       "      <td>Paul Kalanithi</td>\n",
       "      <td>When Breath Becomes Air</td>\n",
       "    </tr>\n",
       "    <tr>\n",
       "      <th>19</th>\n",
       "      <td>3173</td>\n",
       "      <td>373</td>\n",
       "      <td>5</td>\n",
       "      <td>Roald Dahl</td>\n",
       "      <td>The BFG</td>\n",
       "    </tr>\n",
       "    <tr>\n",
       "      <th>20</th>\n",
       "      <td>3173</td>\n",
       "      <td>158</td>\n",
       "      <td>5</td>\n",
       "      <td>Roald Dahl</td>\n",
       "      <td>Charlie and the Chocolate Factory (Charlie Buc...</td>\n",
       "    </tr>\n",
       "    <tr>\n",
       "      <th>21</th>\n",
       "      <td>3173</td>\n",
       "      <td>346</td>\n",
       "      <td>5</td>\n",
       "      <td>L. Frank Baum</td>\n",
       "      <td>The Wonderful Wizard of Oz (Oz, #1)</td>\n",
       "    </tr>\n",
       "    <tr>\n",
       "      <th>22</th>\n",
       "      <td>3173</td>\n",
       "      <td>7350</td>\n",
       "      <td>5</td>\n",
       "      <td>Katherine Paterson</td>\n",
       "      <td>The Great Gilly Hopkins</td>\n",
       "    </tr>\n",
       "    <tr>\n",
       "      <th>23</th>\n",
       "      <td>3173</td>\n",
       "      <td>987</td>\n",
       "      <td>5</td>\n",
       "      <td>Patrick Ness</td>\n",
       "      <td>A Monster Calls</td>\n",
       "    </tr>\n",
       "    <tr>\n",
       "      <th>24</th>\n",
       "      <td>3173</td>\n",
       "      <td>2</td>\n",
       "      <td>5</td>\n",
       "      <td>J.K. Rowling</td>\n",
       "      <td>Harry Potter and the Sorcerer's Stone (Harry P...</td>\n",
       "    </tr>\n",
       "    <tr>\n",
       "      <th>25</th>\n",
       "      <td>3173</td>\n",
       "      <td>265</td>\n",
       "      <td>5</td>\n",
       "      <td>Betty  Smith</td>\n",
       "      <td>A Tree Grows in Brooklyn</td>\n",
       "    </tr>\n",
       "    <tr>\n",
       "      <th>26</th>\n",
       "      <td>3173</td>\n",
       "      <td>23</td>\n",
       "      <td>5</td>\n",
       "      <td>J.K. Rowling</td>\n",
       "      <td>Harry Potter and the Chamber of Secrets (Harry...</td>\n",
       "    </tr>\n",
       "    <tr>\n",
       "      <th>27</th>\n",
       "      <td>3173</td>\n",
       "      <td>7555</td>\n",
       "      <td>5</td>\n",
       "      <td>Laura Ruby</td>\n",
       "      <td>Bone Gap</td>\n",
       "    </tr>\n",
       "    <tr>\n",
       "      <th>28</th>\n",
       "      <td>3173</td>\n",
       "      <td>215</td>\n",
       "      <td>5</td>\n",
       "      <td>Ernest Cline</td>\n",
       "      <td>Ready Player One</td>\n",
       "    </tr>\n",
       "    <tr>\n",
       "      <th>29</th>\n",
       "      <td>3173</td>\n",
       "      <td>459</td>\n",
       "      <td>5</td>\n",
       "      <td>Fredrik Backman</td>\n",
       "      <td>A Man Called Ove</td>\n",
       "    </tr>\n",
       "  </tbody>\n",
       "</table>\n",
       "</div>"
      ],
      "text/plain": [
       "    user_id  book_id  rating             authors  \\\n",
       "0      3173      250       5        R.J. Palacio   \n",
       "1      3173       70       5    Orson Scott Card   \n",
       "2      3173     4112       5     Donald J. Sobol   \n",
       "3      3173        6       5          John Green   \n",
       "4      3173     3630       5            Ron Rash   \n",
       "5      3173     7713       5  Hiroshi Sakurazaka   \n",
       "6      3173      164       5      Rainbow Rowell   \n",
       "7      3173      591       5      Sherman Alexie   \n",
       "8      3173      610       5  Daniel James Brown   \n",
       "9      3173      285       5      Graeme Simsion   \n",
       "10     3173      141       5           Andy Weir   \n",
       "11     3173     4323       5           Cece Bell   \n",
       "12     3173      886       5          M.R. Carey   \n",
       "13     3173       61       5       Paula Hawkins   \n",
       "14     3173     1728       5         Naomi Novik   \n",
       "15     3173     3269       5      David Mitchell   \n",
       "16     3173     2471       5         Naomi Novik   \n",
       "17     3173     6929       5         Marko Kloos   \n",
       "18     3173      852       5      Paul Kalanithi   \n",
       "19     3173      373       5          Roald Dahl   \n",
       "20     3173      158       5          Roald Dahl   \n",
       "21     3173      346       5       L. Frank Baum   \n",
       "22     3173     7350       5  Katherine Paterson   \n",
       "23     3173      987       5        Patrick Ness   \n",
       "24     3173        2       5        J.K. Rowling   \n",
       "25     3173      265       5        Betty  Smith   \n",
       "26     3173       23       5        J.K. Rowling   \n",
       "27     3173     7555       5          Laura Ruby   \n",
       "28     3173      215       5        Ernest Cline   \n",
       "29     3173      459       5     Fredrik Backman   \n",
       "\n",
       "                                                title  \n",
       "0                                              Wonder  \n",
       "1                     Ender's Game (Ender's Saga, #1)  \n",
       "2   Encyclopedia Brown, Boy Detective (Encyclopedi...  \n",
       "3                              The Fault in Our Stars  \n",
       "4                                              Serena  \n",
       "5                                All You Need Is Kill  \n",
       "6                                      Eleanor & Park  \n",
       "7     The Absolutely True Diary of a Part-Time Indian  \n",
       "8   The Boys in the Boat: Nine Americans and Their...  \n",
       "9                 The Rosie Project (Don Tillman, #1)  \n",
       "10                                        The Martian  \n",
       "11                                           El Deafo  \n",
       "12                        The Girl with All the Gifts  \n",
       "13                              The Girl on the Train  \n",
       "14                                           Uprooted  \n",
       "15                                        Slade House  \n",
       "16               His Majesty's Dragon (Temeraire, #1)  \n",
       "17                Terms of Enlistment (Frontlines #1)  \n",
       "18                            When Breath Becomes Air  \n",
       "19                                            The BFG  \n",
       "20  Charlie and the Chocolate Factory (Charlie Buc...  \n",
       "21                The Wonderful Wizard of Oz (Oz, #1)  \n",
       "22                            The Great Gilly Hopkins  \n",
       "23                                    A Monster Calls  \n",
       "24  Harry Potter and the Sorcerer's Stone (Harry P...  \n",
       "25                           A Tree Grows in Brooklyn  \n",
       "26  Harry Potter and the Chamber of Secrets (Harry...  \n",
       "27                                           Bone Gap  \n",
       "28                                   Ready Player One  \n",
       "29                                   A Man Called Ove  "
      ]
     },
     "execution_count": 49,
     "metadata": {},
     "output_type": "execute_result"
    }
   ],
   "source": [
    "get_names(ratings[(ratings.rating == 5) & (ratings.user_id == 3173)], books)"
   ]
  },
  {
   "cell_type": "markdown",
   "metadata": {},
   "source": [
    "#  References\n",
    "1. https://towardsdatascience.com/how-does-collaborative-filtering-work-da56ea94e331\n",
    "2. http://surprise.readthedocs.io/en/stable/getting_started.html"
   ]
  }
 ],
 "metadata": {
  "kernelspec": {
   "display_name": "Python 3",
   "language": "python",
   "name": "python3"
  },
  "language_info": {
   "codemirror_mode": {
    "name": "ipython",
    "version": 3
   },
   "file_extension": ".py",
   "mimetype": "text/x-python",
   "name": "python",
   "nbconvert_exporter": "python",
   "pygments_lexer": "ipython3",
   "version": "3.8.3"
  },
  "toc": {
   "base_numbering": 1,
   "nav_menu": {},
   "number_sections": false,
   "sideBar": true,
   "skip_h1_title": false,
   "title_cell": "Table of Contents",
   "title_sidebar": "Contents",
   "toc_cell": false,
   "toc_position": {
    "height": "calc(100% - 180px)",
    "left": "10px",
    "top": "150px",
    "width": "338.125px"
   },
   "toc_section_display": true,
   "toc_window_display": true
  }
 },
 "nbformat": 4,
 "nbformat_minor": 4
}
