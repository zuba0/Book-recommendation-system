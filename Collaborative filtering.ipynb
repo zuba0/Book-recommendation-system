{
 "cells": [
  {
   "cell_type": "markdown",
   "metadata": {},
   "source": [
    "# Collaborative filtering"
   ]
  },
  {
   "cell_type": "markdown",
   "metadata": {},
   "source": [
    "## Load libraries"
   ]
  },
  {
   "cell_type": "code",
   "execution_count": 1,
   "metadata": {},
   "outputs": [],
   "source": [
    "import pandas as pd\n",
    "import dexplot\n",
    "import random"
   ]
  },
  {
   "cell_type": "markdown",
   "metadata": {},
   "source": [
    "## Read data"
   ]
  },
  {
   "cell_type": "code",
   "execution_count": 2,
   "metadata": {
    "scrolled": true
   },
   "outputs": [
    {
     "data": {
      "text/html": [
       "<div>\n",
       "<style scoped>\n",
       "    .dataframe tbody tr th:only-of-type {\n",
       "        vertical-align: middle;\n",
       "    }\n",
       "\n",
       "    .dataframe tbody tr th {\n",
       "        vertical-align: top;\n",
       "    }\n",
       "\n",
       "    .dataframe thead th {\n",
       "        text-align: right;\n",
       "    }\n",
       "</style>\n",
       "<table border=\"1\" class=\"dataframe\">\n",
       "  <thead>\n",
       "    <tr style=\"text-align: right;\">\n",
       "      <th></th>\n",
       "      <th>user_id</th>\n",
       "      <th>book_id</th>\n",
       "      <th>rating</th>\n",
       "    </tr>\n",
       "  </thead>\n",
       "  <tbody>\n",
       "    <tr>\n",
       "      <th>0</th>\n",
       "      <td>1</td>\n",
       "      <td>258</td>\n",
       "      <td>5</td>\n",
       "    </tr>\n",
       "    <tr>\n",
       "      <th>1</th>\n",
       "      <td>2</td>\n",
       "      <td>4081</td>\n",
       "      <td>4</td>\n",
       "    </tr>\n",
       "    <tr>\n",
       "      <th>2</th>\n",
       "      <td>2</td>\n",
       "      <td>260</td>\n",
       "      <td>5</td>\n",
       "    </tr>\n",
       "    <tr>\n",
       "      <th>3</th>\n",
       "      <td>2</td>\n",
       "      <td>9296</td>\n",
       "      <td>5</td>\n",
       "    </tr>\n",
       "    <tr>\n",
       "      <th>4</th>\n",
       "      <td>2</td>\n",
       "      <td>2318</td>\n",
       "      <td>3</td>\n",
       "    </tr>\n",
       "  </tbody>\n",
       "</table>\n",
       "</div>"
      ],
      "text/plain": [
       "   user_id  book_id  rating\n",
       "0        1      258       5\n",
       "1        2     4081       4\n",
       "2        2      260       5\n",
       "3        2     9296       5\n",
       "4        2     2318       3"
      ]
     },
     "metadata": {},
     "output_type": "display_data"
    }
   ],
   "source": [
    "ratings = pd.read_csv('./goodbooks-10k-1.0/ratings.csv')\n",
    "#books = pd.read_csv('./goodbooks-10k-1.0/books.csv')\n",
    "display(ratings.head(5))"
   ]
  },
  {
   "cell_type": "code",
   "execution_count": 3,
   "metadata": {},
   "outputs": [
    {
     "name": "stdout",
     "output_type": "stream",
     "text": [
      "Number of ratings is 5976479\n",
      "Number of users who rated at least one book is 53424\n"
     ]
    }
   ],
   "source": [
    "print(f'Number of ratings is {len(ratings)}')\n",
    "print(f'Number of users who rated at least one book is {len(ratings.user_id.unique())}')"
   ]
  },
  {
   "cell_type": "markdown",
   "metadata": {},
   "source": [
    "There is almost a 6 million ratings - it would be hard to process such an amount of data. We have to reduce the number of observations."
   ]
  },
  {
   "cell_type": "markdown",
   "metadata": {},
   "source": [
    "Let's see the statistics for number of books rated per user:"
   ]
  },
  {
   "cell_type": "code",
   "execution_count": 4,
   "metadata": {},
   "outputs": [],
   "source": [
    "def grouping(data, col_name):\n",
    "    return data.groupby(col_name)['rating'].count()"
   ]
  },
  {
   "cell_type": "code",
   "execution_count": 5,
   "metadata": {},
   "outputs": [],
   "source": [
    "def check_ratings(data, col_name):\n",
    "    data_grouped = grouping(data, col_name)\n",
    "    title = 'Number of ratings per '+ str(col_name[:-3])\n",
    "    display(dexplot.hist(val='rating',data=data_grouped, title=title, cmap='plasma'))\n",
    "    print('Statistics for dataframe grouped by '+ str(col_name) +':')\n",
    "    print(data_grouped.describe())"
   ]
  },
  {
   "cell_type": "code",
   "execution_count": 6,
   "metadata": {},
   "outputs": [
    {
     "name": "stderr",
     "output_type": "stream",
     "text": [
      "findfont: Font family ['Helvetica'] not found. Falling back to DejaVu Sans.\n",
      "findfont: Font family ['Helvetica'] not found. Falling back to DejaVu Sans.\n"
     ]
    },
    {
     "data": {
      "image/png": "[encoded data removed]",
      "text/plain": [
       "<Figure size 576x432 with 1 Axes>"
      ]
     },
     "metadata": {},
     "output_type": "display_data"
    },
    {
     "name": "stdout",
     "output_type": "stream",
     "text": [
      "Statistics for dataframe grouped by book_id:\n",
      "count    10000.000000\n",
      "mean       597.647900\n",
      "std       1267.289788\n",
      "min          8.000000\n",
      "25%        155.000000\n",
      "50%        248.000000\n",
      "75%        503.000000\n",
      "max      22806.000000\n",
      "Name: rating, dtype: float64\n"
     ]
    }
   ],
   "source": [
    "check_ratings(ratings, 'book_id')"
   ]
  },
  {
   "cell_type": "markdown",
   "metadata": {},
   "source": [
    "Let's remove books which has less than 248 reviews."
   ]
  },
  {
   "cell_type": "code",
   "execution_count": 7,
   "metadata": {},
   "outputs": [
    {
     "data": {
      "text/plain": [
       "(4614057, 3)"
      ]
     },
     "execution_count": 7,
     "metadata": {},
     "output_type": "execute_result"
    }
   ],
   "source": [
    "grouped_by_book = grouping(ratings, 'book_id')\n",
    "ratings = ratings[ratings.book_id.isin(grouped_by_book[grouped_by_book >=400].index)]\n",
    "ratings.shape"
   ]
  },
  {
   "cell_type": "markdown",
   "metadata": {},
   "source": [
    "Let's see the statistics for number of ratings per user:"
   ]
  },
  {
   "cell_type": "code",
   "execution_count": 8,
   "metadata": {},
   "outputs": [
    {
     "data": {
      "image/png": "[encoded data removed]",
      "text/plain": [
       "<Figure size 576x432 with 1 Axes>"
      ]
     },
     "metadata": {},
     "output_type": "display_data"
    },
    {
     "name": "stdout",
     "output_type": "stream",
     "text": [
      "Statistics for dataframe grouped by user_id:\n",
      "count    53424.000000\n",
      "mean        86.366745\n",
      "std         28.334976\n",
      "min          1.000000\n",
      "25%         68.000000\n",
      "50%         86.000000\n",
      "75%        104.000000\n",
      "max        199.000000\n",
      "Name: rating, dtype: float64\n"
     ]
    }
   ],
   "source": [
    "check_ratings(ratings, 'user_id')"
   ]
  },
  {
   "cell_type": "markdown",
   "metadata": {},
   "source": [
    "Let's remove users which rated less than 100 books."
   ]
  },
  {
   "cell_type": "code",
   "execution_count": 9,
   "metadata": {},
   "outputs": [
    {
     "data": {
      "text/plain": [
       "(849199, 3)"
      ]
     },
     "execution_count": 9,
     "metadata": {},
     "output_type": "execute_result"
    }
   ],
   "source": [
    "grouped_by_user = grouping(ratings, 'user_id')\n",
    "ratings = ratings[ratings.user_id.isin(grouped_by_user[grouped_by_user >=120].index)]\n",
    "ratings.shape"
   ]
  },
  {
   "cell_type": "markdown",
   "metadata": {},
   "source": [
    "Check if there are any NaNs in data"
   ]
  },
  {
   "cell_type": "code",
   "execution_count": 10,
   "metadata": {
    "scrolled": true
   },
   "outputs": [
    {
     "data": {
      "text/plain": [
       "user_id    0\n",
       "book_id    0\n",
       "rating     0\n",
       "dtype: int64"
      ]
     },
     "execution_count": 10,
     "metadata": {},
     "output_type": "execute_result"
    }
   ],
   "source": [
    "ratings.isna().sum()"
   ]
  },
  {
   "cell_type": "markdown",
   "metadata": {},
   "source": [
    "Check if there is any users who give two ratings to the same book."
   ]
  },
  {
   "cell_type": "code",
   "execution_count": 11,
   "metadata": {},
   "outputs": [
    {
     "data": {
      "text/plain": [
       "0"
      ]
     },
     "execution_count": 11,
     "metadata": {},
     "output_type": "execute_result"
    }
   ],
   "source": [
    "ratings.duplicated(['user_id','book_id']).sum()"
   ]
  },
  {
   "cell_type": "code",
   "execution_count": 12,
   "metadata": {},
   "outputs": [
    {
     "data": {
      "text/plain": [
       "count    849199.000000\n",
       "mean          3.857025\n",
       "std           1.010149\n",
       "min           1.000000\n",
       "25%           3.000000\n",
       "50%           4.000000\n",
       "75%           5.000000\n",
       "max           5.000000\n",
       "Name: rating, dtype: float64"
      ]
     },
     "execution_count": 12,
     "metadata": {},
     "output_type": "execute_result"
    }
   ],
   "source": [
    "ratings.rating.describe()"
   ]
  },
  {
   "cell_type": "code",
   "execution_count": 13,
   "metadata": {},
   "outputs": [
    {
     "name": "stdout",
     "output_type": "stream",
     "text": [
      "Total number of users is 6280.\n",
      "Total number of rated books is 3164.\n",
      "Total number of ratings is 849199.\n"
     ]
    }
   ],
   "source": [
    "print(f'Total number of users is {len(ratings.user_id.unique())}.')\n",
    "print(f'Total number of rated books is {len(ratings.book_id.unique())}.')\n",
    "print(f'Total number of ratings is {len(ratings)}.')"
   ]
  },
  {
   "cell_type": "code",
   "execution_count": 14,
   "metadata": {
    "scrolled": true
   },
   "outputs": [
    {
     "data": {
      "image/png": "[encoded data removed]",
      "text/plain": [
       "<Figure size 414.72x316.8 with 1 Axes>"
      ]
     },
     "execution_count": 14,
     "metadata": {},
     "output_type": "execute_result"
    }
   ],
   "source": [
    "dexplot.count(val='rating', data=ratings, normalize= True, title='Ratings distribution', cmap='plasma')"
   ]
  },
  {
   "cell_type": "markdown",
   "metadata": {},
   "source": [
    "The most common rating is 4. "
   ]
  },
  {
   "cell_type": "markdown",
   "metadata": {},
   "source": [
    "For the prediction I will use the library Surprise."
   ]
  },
  {
   "cell_type": "code",
   "execution_count": 15,
   "metadata": {},
   "outputs": [],
   "source": [
    "from surprise import Reader, Dataset\n",
    "from surprise.model_selection import GridSearchCV\n",
    "from surprise.prediction_algorithms import KNNBasic,KNNBaseline,KNNWithZScore,KNNWithMeans\n",
    "from surprise import accuracy"
   ]
  },
  {
   "cell_type": "code",
   "execution_count": 16,
   "metadata": {},
   "outputs": [],
   "source": [
    "random.seed(6)\n",
    "reader = Reader(rating_scale=(1, 5))\n",
    "data = Dataset.load_from_df(ratings, reader)\n",
    "raw_ratings = data.raw_ratings\n",
    "train = data"
   ]
  },
  {
   "cell_type": "code",
   "execution_count": 17,
   "metadata": {},
   "outputs": [],
   "source": [
    "random.shuffle(raw_ratings)"
   ]
  },
  {
   "cell_type": "markdown",
   "metadata": {},
   "source": [
    "Divide data into train and test"
   ]
  },
  {
   "cell_type": "code",
   "execution_count": 18,
   "metadata": {},
   "outputs": [],
   "source": [
    "train_size = int(.8 * len(raw_ratings)) \n",
    "train_raw_ratings = raw_ratings[:train_size]                             \n",
    "test_raw_ratings = raw_ratings[train_size:]                                 \n",
    "train.raw_ratings = train_raw_ratings"
   ]
  },
  {
   "cell_type": "code",
   "execution_count": 19,
   "metadata": {},
   "outputs": [],
   "source": [
    "data.raw_ratings = train_raw_ratings"
   ]
  },
  {
   "cell_type": "code",
   "execution_count": 20,
   "metadata": {},
   "outputs": [],
   "source": [
    "model_dict = {'KNNBasic': KNNBasic,'KNNBaseline': KNNBaseline,\n",
    "              'KNNWithZScore': KNNWithZScore, 'KNNWithMeans' :KNNWithMeans}\n",
    "param_grid = {'k': [20], \n",
    "              'sim_options': {'user_based': [False]}\n",
    "             }\n",
    "results = []"
   ]
  },
  {
   "cell_type": "code",
   "execution_count": 21,
   "metadata": {
    "scrolled": true
   },
   "outputs": [
    {
     "name": "stdout",
     "output_type": "stream",
     "text": [
      "Computing the msd similarity matrix...\n",
      "Done computing similarity matrix.\n",
      "Computing the msd similarity matrix...\n",
      "Done computing similarity matrix.\n",
      " Best params for model <class 'surprise.prediction_algorithms.knns.KNNBasic'> are {'rmse': {'k': 20, 'sim_options': {'user_based': False}}, 'mae': {'k': 20, 'sim_options': {'user_based': False}}}\n",
      "Estimating biases using als...\n",
      "Computing the msd similarity matrix...\n",
      "Done computing similarity matrix.\n",
      "Estimating biases using als...\n",
      "Computing the msd similarity matrix...\n",
      "Done computing similarity matrix.\n",
      " Best params for model <class 'surprise.prediction_algorithms.knns.KNNBaseline'> are {'rmse': {'k': 20, 'sim_options': {'user_based': False}}, 'mae': {'k': 20, 'sim_options': {'user_based': False}}}\n",
      "Computing the msd similarity matrix...\n",
      "Done computing similarity matrix.\n",
      "Computing the msd similarity matrix...\n",
      "Done computing similarity matrix.\n",
      " Best params for model <class 'surprise.prediction_algorithms.knns.KNNWithZScore'> are {'rmse': {'k': 20, 'sim_options': {'user_based': False}}, 'mae': {'k': 20, 'sim_options': {'user_based': False}}}\n",
      "Computing the msd similarity matrix...\n",
      "Done computing similarity matrix.\n",
      "Computing the msd similarity matrix...\n",
      "Done computing similarity matrix.\n",
      " Best params for model <class 'surprise.prediction_algorithms.knns.KNNWithMeans'> are {'rmse': {'k': 20, 'sim_options': {'user_based': False}}, 'mae': {'k': 20, 'sim_options': {'user_based': False}}}\n"
     ]
    }
   ],
   "source": [
    "for name, model in model_dict.items():\n",
    "    grid = GridSearchCV(model,param_grid, cv = 2)\n",
    "    grid.fit(data)\n",
    "    print(f' Best params for model {str(model)} are {grid.best_params}')\n",
    "    results.append((name, grid.best_estimator['rmse'], grid.best_estimator['rmse']))"
   ]
  },
  {
   "cell_type": "code",
   "execution_count": 23,
   "metadata": {
    "scrolled": true
   },
   "outputs": [
    {
     "name": "stdout",
     "output_type": "stream",
     "text": [
      "KNNBasic\n",
      "Computing the msd similarity matrix...\n",
      "Done computing similarity matrix.\n",
      "Biased accuracy on A,   RMSE: 0.6073\n",
      "Unbiased accuracy on B, RMSE: 0.8879\n",
      "RMSE: 0.8879\n",
      "MAE:  0.6904\n",
      "RMSE: 0.8879321891035324\n",
      "MAE: 0.6904194959575907\n",
      "KNNBaseline\n",
      "Estimating biases using als...\n",
      "Computing the msd similarity matrix...\n",
      "Done computing similarity matrix.\n",
      "Biased accuracy on A,   RMSE: 0.6067\n",
      "Unbiased accuracy on B, RMSE: 0.8659\n",
      "RMSE: 0.8659\n",
      "MAE:  0.6729\n",
      "RMSE: 0.8658745535748417\n",
      "MAE: 0.6728855922525602\n",
      "KNNWithZScore\n",
      "Computing the msd similarity matrix...\n",
      "Done computing similarity matrix.\n",
      "Biased accuracy on A,   RMSE: 0.6086\n",
      "Unbiased accuracy on B, RMSE: 0.8713\n",
      "RMSE: 0.8713\n",
      "MAE:  0.6757\n",
      "RMSE: 0.8713008773631512\n",
      "MAE: 0.6756551652621126\n",
      "KNNWithMeans\n",
      "Computing the msd similarity matrix...\n",
      "Done computing similarity matrix.\n",
      "Biased accuracy on A,   RMSE: 0.6103\n",
      "Unbiased accuracy on B, RMSE: 0.8678\n",
      "RMSE: 0.8678\n",
      "MAE:  0.6753\n",
      "RMSE: 0.8677815921058591\n",
      "MAE: 0.6753203820054791\n"
     ]
    }
   ],
   "source": [
    "rmse = []\n",
    "mae = []\n",
    "for name, model,_ in results:\n",
    "    print(name)                                                     \n",
    "                                                                           \n",
    "    # now test on the trainset                                                 \n",
    "    trainset = data.build_full_trainset()\n",
    "    model.fit(trainset)                                          \n",
    "\n",
    "    # Compute biased accuracy on A\n",
    "    predictions = model.test(trainset.build_testset())\n",
    "    print('Biased accuracy on A,', end='   ')\n",
    "    accuracy.rmse(predictions)\n",
    "\n",
    "    # Compute unbiased accuracy on B\n",
    "    testset = data.construct_testset(test_raw_ratings)  # testset is now the set B\n",
    "    predictions = model.test(testset)\n",
    "    print('Unbiased accuracy on B,', end=' ')\n",
    "    accuracy.rmse(predictions)                                                                                        \n",
    "    rmse_score = accuracy.rmse(predictions)\n",
    "    mae_score = accuracy.mae(predictions)\n",
    "    print(\"RMSE: {}\".format(rmse_score))\n",
    "    print(\"MAE: {}\".format(mae_score))\n",
    "    rmse.append(rmse_score)\n",
    "    mae.append(mae_score)"
   ]
  },
  {
   "cell_type": "code",
   "execution_count": 25,
   "metadata": {},
   "outputs": [
    {
     "data": {
      "text/html": [
       "<div>\n",
       "<style scoped>\n",
       "    .dataframe tbody tr th:only-of-type {\n",
       "        vertical-align: middle;\n",
       "    }\n",
       "\n",
       "    .dataframe tbody tr th {\n",
       "        vertical-align: top;\n",
       "    }\n",
       "\n",
       "    .dataframe thead th {\n",
       "        text-align: right;\n",
       "    }\n",
       "</style>\n",
       "<table border=\"1\" class=\"dataframe\">\n",
       "  <thead>\n",
       "    <tr style=\"text-align: right;\">\n",
       "      <th></th>\n",
       "      <th>Method</th>\n",
       "      <th>rmse</th>\n",
       "      <th>mae</th>\n",
       "    </tr>\n",
       "  </thead>\n",
       "  <tbody>\n",
       "    <tr>\n",
       "      <th>0</th>\n",
       "      <td>KNNBasic</td>\n",
       "      <td>0.887932</td>\n",
       "      <td>0.690419</td>\n",
       "    </tr>\n",
       "    <tr>\n",
       "      <th>1</th>\n",
       "      <td>KNNBaseline</td>\n",
       "      <td>0.865875</td>\n",
       "      <td>0.672886</td>\n",
       "    </tr>\n",
       "    <tr>\n",
       "      <th>2</th>\n",
       "      <td>KNNWithZScore</td>\n",
       "      <td>0.871301</td>\n",
       "      <td>0.675655</td>\n",
       "    </tr>\n",
       "    <tr>\n",
       "      <th>3</th>\n",
       "      <td>KNNWithMeans</td>\n",
       "      <td>0.867782</td>\n",
       "      <td>0.675320</td>\n",
       "    </tr>\n",
       "  </tbody>\n",
       "</table>\n",
       "</div>"
      ],
      "text/plain": [
       "          Method      rmse       mae\n",
       "0       KNNBasic  0.887932  0.690419\n",
       "1    KNNBaseline  0.865875  0.672886\n",
       "2  KNNWithZScore  0.871301  0.675655\n",
       "3   KNNWithMeans  0.867782  0.675320"
      ]
     },
     "execution_count": 25,
     "metadata": {},
     "output_type": "execute_result"
    }
   ],
   "source": [
    "import pandas as pd\n",
    "d = {'rmse': rmse, \n",
    "     'mae': mae\n",
    "    }\n",
    "df = pd.DataFrame(data=d)\n",
    "df.insert(loc=0, column='Method', value=['KNNBasic','KNNBaseline',\n",
    "              'KNNWithZScore','KNNWithMeans'])\n",
    "color = (df.rmse == df.rmse.min()).map({True: 'background-color: yellow', False: 'background_color: white'})\n",
    "df.style.apply(lambda s: color)"
   ]
  },
  {
   "cell_type": "markdown",
   "metadata": {},
   "source": [
    "Top n-recommendations"
   ]
  },
  {
   "cell_type": "code",
   "execution_count": 91,
   "metadata": {
    "scrolled": true
   },
   "outputs": [
    {
     "data": {
      "text/plain": [
       "[(422, 4.710913493295039),\n",
       " (2353, 4.668107552304876),\n",
       " (862, 4.657017890084698),\n",
       " (144, 4.62833853931778),\n",
       " (1029, 4.622729671193017),\n",
       " (780, 4.606268949739803),\n",
       " (1010, 4.582512166334511),\n",
       " (740, 4.578840551402136),\n",
       " (3395, 4.57288017595366),\n",
       " (760, 4.57120941278542)]"
      ]
     },
     "execution_count": 91,
     "metadata": {},
     "output_type": "execute_result"
    }
   ],
   "source": [
    "def get_top_n(user_id, model,n=10):\n",
    "    rated_books = list(ratings[ratings.user_id  ==user_id].book_id)\n",
    "    ratings_set = [(user_id,book_id,0) for book_id in set(ratings[~ratings.book_id.isin(rated_books)].book_id)]\n",
    "    predictions = model.test(ratings_set)\n",
    "\n",
    "    top_n = list()\n",
    "    for _, iid, true_r, est, _ in predictions:\n",
    "        top_n.append((iid, est))\n",
    "\n",
    "    # Then sort the predictions for user and retrieve the k highest ones.\n",
    "    top_n.sort(key=lambda x: x[1], reverse=True)\n",
    "    top_n = top_n[:n]\n",
    "\n",
    "    return top_n\n",
    "\n",
    "top_n = get_top_n(4, results[1][1],n=10)\n",
    "\n",
    "# Print the recommended items for each user\n",
    "top_n"
   ]
  },
  {
   "cell_type": "code",
   "execution_count": 114,
   "metadata": {},
   "outputs": [],
   "source": [
    "ids = [book[0] for book in top_n ]"
   ]
  },
  {
   "cell_type": "code",
   "execution_count": 98,
   "metadata": {},
   "outputs": [
    {
     "data": {
      "text/html": [
       "<div>\n",
       "<style scoped>\n",
       "    .dataframe tbody tr th:only-of-type {\n",
       "        vertical-align: middle;\n",
       "    }\n",
       "\n",
       "    .dataframe tbody tr th {\n",
       "        vertical-align: top;\n",
       "    }\n",
       "\n",
       "    .dataframe thead th {\n",
       "        text-align: right;\n",
       "    }\n",
       "</style>\n",
       "<table border=\"1\" class=\"dataframe\">\n",
       "  <thead>\n",
       "    <tr style=\"text-align: right;\">\n",
       "      <th></th>\n",
       "      <th>user_id</th>\n",
       "      <th>book_id</th>\n",
       "      <th>rating</th>\n",
       "    </tr>\n",
       "  </thead>\n",
       "  <tbody>\n",
       "    <tr>\n",
       "      <th>195100</th>\n",
       "      <td>4</td>\n",
       "      <td>383</td>\n",
       "      <td>5</td>\n",
       "    </tr>\n",
       "    <tr>\n",
       "      <th>2322</th>\n",
       "      <td>4</td>\n",
       "      <td>10</td>\n",
       "      <td>5</td>\n",
       "    </tr>\n",
       "    <tr>\n",
       "      <th>101</th>\n",
       "      <td>4</td>\n",
       "      <td>245</td>\n",
       "      <td>5</td>\n",
       "    </tr>\n",
       "    <tr>\n",
       "      <th>267</th>\n",
       "      <td>4</td>\n",
       "      <td>497</td>\n",
       "      <td>5</td>\n",
       "    </tr>\n",
       "    <tr>\n",
       "      <th>90</th>\n",
       "      <td>4</td>\n",
       "      <td>42</td>\n",
       "      <td>5</td>\n",
       "    </tr>\n",
       "    <tr>\n",
       "      <th>271</th>\n",
       "      <td>4</td>\n",
       "      <td>489</td>\n",
       "      <td>5</td>\n",
       "    </tr>\n",
       "    <tr>\n",
       "      <th>273</th>\n",
       "      <td>4</td>\n",
       "      <td>1380</td>\n",
       "      <td>5</td>\n",
       "    </tr>\n",
       "    <tr>\n",
       "      <th>84</th>\n",
       "      <td>4</td>\n",
       "      <td>87</td>\n",
       "      <td>5</td>\n",
       "    </tr>\n",
       "    <tr>\n",
       "      <th>277</th>\n",
       "      <td>4</td>\n",
       "      <td>3469</td>\n",
       "      <td>5</td>\n",
       "    </tr>\n",
       "    <tr>\n",
       "      <th>1238</th>\n",
       "      <td>4</td>\n",
       "      <td>81</td>\n",
       "      <td>5</td>\n",
       "    </tr>\n",
       "  </tbody>\n",
       "</table>\n",
       "</div>"
      ],
      "text/plain": [
       "        user_id  book_id  rating\n",
       "195100        4      383       5\n",
       "2322          4       10       5\n",
       "101           4      245       5\n",
       "267           4      497       5\n",
       "90            4       42       5\n",
       "271           4      489       5\n",
       "273           4     1380       5\n",
       "84            4       87       5\n",
       "277           4     3469       5\n",
       "1238          4       81       5"
      ]
     },
     "execution_count": 98,
     "metadata": {},
     "output_type": "execute_result"
    }
   ],
   "source": [
    "ratings[ratings.user_id ==4].sort_values(by='rating',ascending=False)[:10]"
   ]
  },
  {
   "cell_type": "code",
   "execution_count": 108,
   "metadata": {},
   "outputs": [],
   "source": [
    "books = pd.read_csv(filepath_or_buffer='./goodbooks-10k-1.0/books.csv', usecols=['book_id','title','authors'])"
   ]
  },
  {
   "cell_type": "markdown",
   "metadata": {},
   "source": [
    "Names mapping"
   ]
  },
  {
   "cell_type": "code",
   "execution_count": 101,
   "metadata": {},
   "outputs": [
    {
     "data": {
      "text/plain": [
       "(849199, 3)"
      ]
     },
     "execution_count": 101,
     "metadata": {},
     "output_type": "execute_result"
    }
   ],
   "source": [
    "ratings.shape"
   ]
  },
  {
   "cell_type": "code",
   "execution_count": 109,
   "metadata": {},
   "outputs": [],
   "source": [
    "ratings_with_names = pd.merge(ratings, books,how='left', on='book_id')"
   ]
  },
  {
   "cell_type": "code",
   "execution_count": 117,
   "metadata": {},
   "outputs": [],
   "source": [
    "ratings_with_names.drop(['user_id','rating'],axis=1, inplace=True)"
   ]
  },
  {
   "cell_type": "code",
   "execution_count": 118,
   "metadata": {},
   "outputs": [],
   "source": [
    "ratings_with_names.drop_duplicates(inplace=True)"
   ]
  },
  {
   "cell_type": "code",
   "execution_count": 110,
   "metadata": {},
   "outputs": [
    {
     "data": {
      "text/plain": [
       "849199"
      ]
     },
     "execution_count": 110,
     "metadata": {},
     "output_type": "execute_result"
    }
   ],
   "source": [
    "len(ratings_with_names)"
   ]
  },
  {
   "cell_type": "code",
   "execution_count": 119,
   "metadata": {},
   "outputs": [
    {
     "data": {
      "text/html": [
       "<div>\n",
       "<style scoped>\n",
       "    .dataframe tbody tr th:only-of-type {\n",
       "        vertical-align: middle;\n",
       "    }\n",
       "\n",
       "    .dataframe tbody tr th {\n",
       "        vertical-align: top;\n",
       "    }\n",
       "\n",
       "    .dataframe thead th {\n",
       "        text-align: right;\n",
       "    }\n",
       "</style>\n",
       "<table border=\"1\" class=\"dataframe\">\n",
       "  <thead>\n",
       "    <tr style=\"text-align: right;\">\n",
       "      <th></th>\n",
       "      <th>book_id</th>\n",
       "      <th>authors</th>\n",
       "      <th>title</th>\n",
       "    </tr>\n",
       "  </thead>\n",
       "  <tbody>\n",
       "    <tr>\n",
       "      <th>390</th>\n",
       "      <td>760</td>\n",
       "      <td>Orson Scott Card</td>\n",
       "      <td>Ender's Shadow (Ender's Shadow, #1)</td>\n",
       "    </tr>\n",
       "    <tr>\n",
       "      <th>1994</th>\n",
       "      <td>1010</td>\n",
       "      <td>Bill Watterson</td>\n",
       "      <td>The Essential Calvin and Hobbes: A Calvin and ...</td>\n",
       "    </tr>\n",
       "    <tr>\n",
       "      <th>1996</th>\n",
       "      <td>780</td>\n",
       "      <td>Bill Watterson, G.B. Trudeau</td>\n",
       "      <td>Calvin and Hobbes</td>\n",
       "    </tr>\n",
       "    <tr>\n",
       "      <th>2660</th>\n",
       "      <td>2353</td>\n",
       "      <td>Neil Gaiman, Matt Wagner, George Pratt, Dick G...</td>\n",
       "      <td>Season of Mists (The Sandman #4)</td>\n",
       "    </tr>\n",
       "    <tr>\n",
       "      <th>2666</th>\n",
       "      <td>3395</td>\n",
       "      <td>Neil Gaiman, Marc Hempel, Richard Case, D'Isra...</td>\n",
       "      <td>The Kindly Ones (The Sandman #9)</td>\n",
       "    </tr>\n",
       "    <tr>\n",
       "      <th>5039</th>\n",
       "      <td>740</td>\n",
       "      <td>Laura Ingalls Wilder, Garth Williams</td>\n",
       "      <td>The Little House Collection (Little House, #1-9)</td>\n",
       "    </tr>\n",
       "    <tr>\n",
       "      <th>8273</th>\n",
       "      <td>422</td>\n",
       "      <td>J.K. Rowling</td>\n",
       "      <td>Harry Potter Boxset (Harry Potter, #1-7)</td>\n",
       "    </tr>\n",
       "    <tr>\n",
       "      <th>164714</th>\n",
       "      <td>144</td>\n",
       "      <td>Laura Hillenbrand</td>\n",
       "      <td>Unbroken: A World War II Story of Survival, Re...</td>\n",
       "    </tr>\n",
       "    <tr>\n",
       "      <th>466643</th>\n",
       "      <td>862</td>\n",
       "      <td>Brandon Sanderson</td>\n",
       "      <td>Words of Radiance (The Stormlight Archive, #2)</td>\n",
       "    </tr>\n",
       "    <tr>\n",
       "      <th>514347</th>\n",
       "      <td>1029</td>\n",
       "      <td>Brian K. Vaughan, Fiona Staples</td>\n",
       "      <td>Saga, Vol. 1 (Saga, #1)</td>\n",
       "    </tr>\n",
       "  </tbody>\n",
       "</table>\n",
       "</div>"
      ],
      "text/plain": [
       "        book_id                                            authors  \\\n",
       "390         760                                   Orson Scott Card   \n",
       "1994       1010                                     Bill Watterson   \n",
       "1996        780                       Bill Watterson, G.B. Trudeau   \n",
       "2660       2353  Neil Gaiman, Matt Wagner, George Pratt, Dick G...   \n",
       "2666       3395  Neil Gaiman, Marc Hempel, Richard Case, D'Isra...   \n",
       "5039        740               Laura Ingalls Wilder, Garth Williams   \n",
       "8273        422                                       J.K. Rowling   \n",
       "164714      144                                  Laura Hillenbrand   \n",
       "466643      862                                  Brandon Sanderson   \n",
       "514347     1029                    Brian K. Vaughan, Fiona Staples   \n",
       "\n",
       "                                                    title  \n",
       "390                   Ender's Shadow (Ender's Shadow, #1)  \n",
       "1994    The Essential Calvin and Hobbes: A Calvin and ...  \n",
       "1996                                    Calvin and Hobbes  \n",
       "2660                     Season of Mists (The Sandman #4)  \n",
       "2666                     The Kindly Ones (The Sandman #9)  \n",
       "5039     The Little House Collection (Little House, #1-9)  \n",
       "8273             Harry Potter Boxset (Harry Potter, #1-7)  \n",
       "164714  Unbroken: A World War II Story of Survival, Re...  \n",
       "466643     Words of Radiance (The Stormlight Archive, #2)  \n",
       "514347                            Saga, Vol. 1 (Saga, #1)  "
      ]
     },
     "execution_count": 119,
     "metadata": {},
     "output_type": "execute_result"
    }
   ],
   "source": [
    "ratings_with_names[ratings_with_names.book_id.isin(ids)]"
   ]
  }
 ],
 "metadata": {
  "kernelspec": {
   "display_name": "Python 3",
   "language": "python",
   "name": "python3"
  },
  "language_info": {
   "codemirror_mode": {
    "name": "ipython",
    "version": 3
   },
   "file_extension": ".py",
   "mimetype": "text/x-python",
   "name": "python",
   "nbconvert_exporter": "python",
   "pygments_lexer": "ipython3",
   "version": "3.8.3"
  },
  "toc": {
   "base_numbering": 1,
   "nav_menu": {},
   "number_sections": false,
   "sideBar": true,
   "skip_h1_title": false,
   "title_cell": "Table of Contents",
   "title_sidebar": "Contents",
   "toc_cell": false,
   "toc_position": {},
   "toc_section_display": true,
   "toc_window_display": false
  }
 },
 "nbformat": 4,
 "nbformat_minor": 4
}
